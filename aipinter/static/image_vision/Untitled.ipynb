{
 "cells": [
  {
   "cell_type": "code",
   "execution_count": 6,
   "metadata": {},
   "outputs": [
    {
     "ename": "error",
     "evalue": "OpenCV(3.4.5) /io/opencv/modules/imgproc/src/resize.cpp:3784: error: (-215:Assertion failed) !ssize.empty() in function 'resize'\n",
     "output_type": "error",
     "traceback": [
      "\u001b[0;31m---------------------------------------------------------------------------\u001b[0m",
      "\u001b[0;31merror\u001b[0m                                     Traceback (most recent call last)",
      "\u001b[0;32m<ipython-input-6-f5d430b70914>\u001b[0m in \u001b[0;36m<module>\u001b[0;34m\u001b[0m\n\u001b[1;32m      2\u001b[0m \u001b[0mimg\u001b[0m \u001b[0;34m=\u001b[0m \u001b[0mcv2\u001b[0m\u001b[0;34m.\u001b[0m\u001b[0mimread\u001b[0m\u001b[0;34m(\u001b[0m\u001b[0;34m'00001.jpg'\u001b[0m\u001b[0;34m)\u001b[0m\u001b[0;34m\u001b[0m\u001b[0;34m\u001b[0m\u001b[0m\n\u001b[1;32m      3\u001b[0m \u001b[0mimg\u001b[0m \u001b[0;34m=\u001b[0m \u001b[0;32mNone\u001b[0m\u001b[0;34m\u001b[0m\u001b[0;34m\u001b[0m\u001b[0m\n\u001b[0;32m----> 4\u001b[0;31m \u001b[0mimg_\u001b[0m \u001b[0;34m=\u001b[0m \u001b[0mcv2\u001b[0m\u001b[0;34m.\u001b[0m\u001b[0mresize\u001b[0m\u001b[0;34m(\u001b[0m\u001b[0mimg\u001b[0m\u001b[0;34m,\u001b[0m \u001b[0;34m(\u001b[0m\u001b[0;36m80\u001b[0m\u001b[0;34m,\u001b[0m \u001b[0;36m80\u001b[0m\u001b[0;34m)\u001b[0m\u001b[0;34m)\u001b[0m\u001b[0;34m\u001b[0m\u001b[0;34m\u001b[0m\u001b[0m\n\u001b[0m",
      "\u001b[0;31merror\u001b[0m: OpenCV(3.4.5) /io/opencv/modules/imgproc/src/resize.cpp:3784: error: (-215:Assertion failed) !ssize.empty() in function 'resize'\n"
     ]
    }
   ],
   "source": [
    "import cv2\n",
    "img = cv2.imread('00001.jpg')\n",
    "img = None\n",
    "img_ = cv2.resize(img, (80, 80))"
   ]
  },
  {
   "cell_type": "code",
   "execution_count": 5,
   "metadata": {},
   "outputs": [
    {
     "data": {
      "text/plain": [
       "array([[[138, 137, 133],\n",
       "        [140, 139, 135],\n",
       "        [138, 137, 133],\n",
       "        ...,\n",
       "        [130, 132, 129],\n",
       "        [132, 133, 131],\n",
       "        [139, 140, 138]],\n",
       "\n",
       "       [[144, 143, 139],\n",
       "        [138, 137, 133],\n",
       "        [142, 141, 137],\n",
       "        ...,\n",
       "        [135, 136, 134],\n",
       "        [138, 139, 137],\n",
       "        [138, 139, 137]],\n",
       "\n",
       "       [[142, 141, 137],\n",
       "        [139, 138, 134],\n",
       "        [138, 138, 133],\n",
       "        ...,\n",
       "        [139, 140, 138],\n",
       "        [135, 136, 134],\n",
       "        [137, 138, 136]],\n",
       "\n",
       "       ...,\n",
       "\n",
       "       [[138, 136, 135],\n",
       "        [142, 139, 139],\n",
       "        [140, 138, 136],\n",
       "        ...,\n",
       "        [140, 138, 137],\n",
       "        [143, 141, 140],\n",
       "        [144, 142, 141]],\n",
       "\n",
       "       [[137, 135, 134],\n",
       "        [140, 138, 137],\n",
       "        [141, 139, 138],\n",
       "        ...,\n",
       "        [138, 136, 135],\n",
       "        [141, 139, 138],\n",
       "        [142, 140, 139]],\n",
       "\n",
       "       [[141, 139, 138],\n",
       "        [142, 140, 139],\n",
       "        [140, 138, 137],\n",
       "        ...,\n",
       "        [137, 138, 136],\n",
       "        [139, 140, 139],\n",
       "        [140, 141, 139]]], dtype=uint8)"
      ]
     },
     "execution_count": 5,
     "metadata": {},
     "output_type": "execute_result"
    }
   ],
   "source": [
    "img_"
   ]
  },
  {
   "cell_type": "code",
   "execution_count": null,
   "metadata": {},
   "outputs": [],
   "source": []
  }
 ],
 "metadata": {
  "kernelspec": {
   "display_name": "Python [conda env:lab]",
   "language": "python",
   "name": "conda-env-lab-py"
  },
  "language_info": {
   "codemirror_mode": {
    "name": "ipython",
    "version": 3
   },
   "file_extension": ".py",
   "mimetype": "text/x-python",
   "name": "python",
   "nbconvert_exporter": "python",
   "pygments_lexer": "ipython3",
   "version": "3.6.7"
  }
 },
 "nbformat": 4,
 "nbformat_minor": 2
}
